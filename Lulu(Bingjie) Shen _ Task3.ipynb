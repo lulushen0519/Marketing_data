{
 "cells": [
  {
   "cell_type": "code",
   "execution_count": 1,
   "metadata": {},
   "outputs": [
    {
     "data": {
      "text/html": [
       "<div>\n",
       "<style scoped>\n",
       "    .dataframe tbody tr th:only-of-type {\n",
       "        vertical-align: middle;\n",
       "    }\n",
       "\n",
       "    .dataframe tbody tr th {\n",
       "        vertical-align: top;\n",
       "    }\n",
       "\n",
       "    .dataframe thead th {\n",
       "        text-align: right;\n",
       "    }\n",
       "</style>\n",
       "<table border=\"1\" class=\"dataframe\">\n",
       "  <thead>\n",
       "    <tr style=\"text-align: right;\">\n",
       "      <th></th>\n",
       "      <th>Keyword</th>\n",
       "      <th>Position</th>\n",
       "      <th>Previous position</th>\n",
       "      <th>Search Volume</th>\n",
       "      <th>Keyword Difficulty</th>\n",
       "      <th>CPC</th>\n",
       "      <th>URL</th>\n",
       "      <th>Traffic</th>\n",
       "      <th>Traffic (%)</th>\n",
       "      <th>Traffic Cost</th>\n",
       "      <th>Competition</th>\n",
       "      <th>Number of Results</th>\n",
       "      <th>Trends</th>\n",
       "      <th>Timestamp</th>\n",
       "    </tr>\n",
       "  </thead>\n",
       "  <tbody>\n",
       "    <tr>\n",
       "      <th>0</th>\n",
       "      <td>text analysis</td>\n",
       "      <td>1</td>\n",
       "      <td>1</td>\n",
       "      <td>4400</td>\n",
       "      <td>69.01</td>\n",
       "      <td>8.85</td>\n",
       "      <td>https://monkeylearn.com/text-analysis</td>\n",
       "      <td>2068</td>\n",
       "      <td>27.54</td>\n",
       "      <td>18301</td>\n",
       "      <td>0.07</td>\n",
       "      <td>2990000000</td>\n",
       "      <td>82,67,55,44,55,100,100,82,67,67,82,82</td>\n",
       "      <td>9/10/19</td>\n",
       "    </tr>\n",
       "    <tr>\n",
       "      <th>1</th>\n",
       "      <td>sentiment analysis</td>\n",
       "      <td>3</td>\n",
       "      <td>3</td>\n",
       "      <td>8100</td>\n",
       "      <td>71.42</td>\n",
       "      <td>17.52</td>\n",
       "      <td>https://monkeylearn.com/sentiment-analysis</td>\n",
       "      <td>729</td>\n",
       "      <td>9.70</td>\n",
       "      <td>12772</td>\n",
       "      <td>0.51</td>\n",
       "      <td>126000000</td>\n",
       "      <td>100,82,67,67,67,82,100,82,67,67,82,100</td>\n",
       "      <td>9/10/19</td>\n",
       "    </tr>\n",
       "    <tr>\n",
       "      <th>2</th>\n",
       "      <td>text classification</td>\n",
       "      <td>1</td>\n",
       "      <td>1</td>\n",
       "      <td>880</td>\n",
       "      <td>79.19</td>\n",
       "      <td>12.88</td>\n",
       "      <td>https://monkeylearn.com/text-classification</td>\n",
       "      <td>413</td>\n",
       "      <td>5.50</td>\n",
       "      <td>5327</td>\n",
       "      <td>0.05</td>\n",
       "      <td>476000000</td>\n",
       "      <td>88,88,72,72,88,72,100,88,72,72,88,100</td>\n",
       "      <td>8/19/19</td>\n",
       "    </tr>\n",
       "    <tr>\n",
       "      <th>3</th>\n",
       "      <td>monkeylearn</td>\n",
       "      <td>1</td>\n",
       "      <td>1</td>\n",
       "      <td>320</td>\n",
       "      <td>78.48</td>\n",
       "      <td>0.00</td>\n",
       "      <td>https://monkeylearn.com/</td>\n",
       "      <td>256</td>\n",
       "      <td>3.40</td>\n",
       "      <td>0</td>\n",
       "      <td>0.00</td>\n",
       "      <td>59800</td>\n",
       "      <td>82,82,100,82,82,82,100,100,54,82,100,100</td>\n",
       "      <td>8/17/19</td>\n",
       "    </tr>\n",
       "    <tr>\n",
       "      <th>4</th>\n",
       "      <td>monkey learn</td>\n",
       "      <td>1</td>\n",
       "      <td>1</td>\n",
       "      <td>210</td>\n",
       "      <td>79.76</td>\n",
       "      <td>0.00</td>\n",
       "      <td>https://monkeylearn.com/</td>\n",
       "      <td>168</td>\n",
       "      <td>2.23</td>\n",
       "      <td>0</td>\n",
       "      <td>0.00</td>\n",
       "      <td>215000000</td>\n",
       "      <td>65,81,81,81,65,81,81,81,65,81,81,100</td>\n",
       "      <td>8/15/19</td>\n",
       "    </tr>\n",
       "  </tbody>\n",
       "</table>\n",
       "</div>"
      ],
      "text/plain": [
       "               Keyword  Position  Previous position  Search Volume  \\\n",
       "0        text analysis         1                  1           4400   \n",
       "1   sentiment analysis         3                  3           8100   \n",
       "2  text classification         1                  1            880   \n",
       "3          monkeylearn         1                  1            320   \n",
       "4         monkey learn         1                  1            210   \n",
       "\n",
       "   Keyword Difficulty    CPC                                          URL  \\\n",
       "0               69.01   8.85        https://monkeylearn.com/text-analysis   \n",
       "1               71.42  17.52   https://monkeylearn.com/sentiment-analysis   \n",
       "2               79.19  12.88  https://monkeylearn.com/text-classification   \n",
       "3               78.48   0.00                     https://monkeylearn.com/   \n",
       "4               79.76   0.00                     https://monkeylearn.com/   \n",
       "\n",
       "   Traffic  Traffic (%)  Traffic Cost  Competition  Number of Results  \\\n",
       "0     2068        27.54         18301         0.07         2990000000   \n",
       "1      729         9.70         12772         0.51          126000000   \n",
       "2      413         5.50          5327         0.05          476000000   \n",
       "3      256         3.40             0         0.00              59800   \n",
       "4      168         2.23             0         0.00          215000000   \n",
       "\n",
       "                                     Trends Timestamp  \n",
       "0     82,67,55,44,55,100,100,82,67,67,82,82   9/10/19  \n",
       "1    100,82,67,67,67,82,100,82,67,67,82,100   9/10/19  \n",
       "2     88,88,72,72,88,72,100,88,72,72,88,100   8/19/19  \n",
       "3  82,82,100,82,82,82,100,100,54,82,100,100   8/17/19  \n",
       "4      65,81,81,81,65,81,81,81,65,81,81,100   8/15/19  "
      ]
     },
     "execution_count": 1,
     "metadata": {},
     "output_type": "execute_result"
    }
   ],
   "source": [
    "import pandas as pd\n",
    "import numpy as ny\n",
    "df= pd.read_csv(\"monkeylearn.com-organic.csv\")\n",
    "df.head()"
   ]
  },
  {
   "cell_type": "raw",
   "metadata": {},
   "source": [
    "I ranked the traffic volume from high to low in the Excel, and found the key word \"text analysis\" is the most effiecient and effective one for Monkeylearn, because it drove the most traffic and has a relatively low CPC compared to other key words, such as \"sentiment analysis\" and \"text classification\"."
   ]
  },
  {
   "cell_type": "code",
   "execution_count": 2,
   "metadata": {},
   "outputs": [
    {
     "data": {
      "text/plain": [
       "URL\n",
       "http://help.monkeylearn.com/advanced-settings-for-custom-models/classifiers/filter-stopwords                       0\n",
       "http://help.monkeylearn.com/advanced-settings-for-custom-models/classifiers/language-settings                      0\n",
       "http://help.monkeylearn.com/advanced-settings-for-custom-models/classifiers/n-gram-range                           0\n",
       "http://help.monkeylearn.com/articles/2174294-how-monkeylearn-has-prepared-for-gdpr                                 0\n",
       "http://help.monkeylearn.com/data-files-and-monkeylearn/getting-your-data-ready-for-monkeylearn                     0\n",
       "http://help.monkeylearn.com/en/                                                                                    0\n",
       "http://help.monkeylearn.com/en/articles/2173809-text-analysis-models-included-with-monkeylearn                     0\n",
       "http://help.monkeylearn.com/en/articles/2173815-working-with-csv-excel-data-files                                  0\n",
       "http://help.monkeylearn.com/en/articles/2173817-how-are-text-classifiers-trained                                   0\n",
       "http://help.monkeylearn.com/en/articles/2173818-what-is-text-classification                                        5\n",
       "http://help.monkeylearn.com/en/articles/2173823-how-to-build-a-custom-classifier                                   4\n",
       "http://help.monkeylearn.com/en/articles/2173833-best-practices-for-training-data                                   0\n",
       "http://help.monkeylearn.com/en/articles/2173836-defining-tags-for-classifiers                                      0\n",
       "http://help.monkeylearn.com/en/articles/2173838-understanding-classifier-statistics                                1\n",
       "http://help.monkeylearn.com/en/articles/2173839-improving-recall-and-precision                                     0\n",
       "http://help.monkeylearn.com/en/articles/2174069-what-is-extraction                                                 0\n",
       "http://help.monkeylearn.com/en/articles/2174073-how-to-build-a-custom-extractor                                    0\n",
       "http://help.monkeylearn.com/en/articles/2174086-batch-processing-of-text-analysis                                  0\n",
       "http://help.monkeylearn.com/en/articles/2174105-n-gram-range                                                       0\n",
       "http://help.monkeylearn.com/en/articles/2174106-language-settings                                                  0\n",
       "http://help.monkeylearn.com/en/articles/2174118-stemming                                                           0\n",
       "http://help.monkeylearn.com/en/articles/2174194-using-monkeylearn-and-zapier                                       0\n",
       "http://help.monkeylearn.com/en/articles/2174202-monkeylearn-google-sheets-add-on                                   0\n",
       "http://help.monkeylearn.com/en/articles/2174211-what-is-the-difference-between-classification-and-extraction       0\n",
       "http://help.monkeylearn.com/en/articles/2174249-how-can-i-delete-my-account                                       23\n",
       "http://help.monkeylearn.com/en/articles/2174273-what-is-a-query-in-monkeylearn                                     0\n",
       "http://help.monkeylearn.com/en/articles/2239426-security-at-monkeylearn                                            0\n",
       "http://help.monkeylearn.com/en/articles/2302552-how-many-tags-can-i-create-in-a-model                              0\n",
       "http://help.monkeylearn.com/en/articles/2434709-keyboard-shortcuts-for-monkeylearn                                 0\n",
       "http://help.monkeylearn.com/en/collections/1261602-text-extraction                                                 0\n",
       "                                                                                                                ... \n",
       "https://monkeylearn.com/for-support/                                                                               0\n",
       "https://monkeylearn.com/google-sheets                                                                              1\n",
       "https://monkeylearn.com/how-it-works/                                                                              0\n",
       "https://monkeylearn.com/integrations/                                                                              0\n",
       "https://monkeylearn.com/keyword-extraction                                                                         5\n",
       "https://monkeylearn.com/keyword-extraction/                                                                        3\n",
       "https://monkeylearn.com/pricing/                                                                                  73\n",
       "https://monkeylearn.com/privacy/                                                                                   0\n",
       "https://monkeylearn.com/sentiment-analysis                                                                      1738\n",
       "https://monkeylearn.com/sentiment-analysis-examples                                                                1\n",
       "https://monkeylearn.com/short-text-classification                                                                 15\n",
       "https://monkeylearn.com/terms/                                                                                     0\n",
       "https://monkeylearn.com/text-analysis                                                                           2283\n",
       "https://monkeylearn.com/text-analytics                                                                             0\n",
       "https://monkeylearn.com/text-analytics/                                                                            0\n",
       "https://monkeylearn.com/text-classification                                                                      936\n",
       "https://monkeylearn.com/text-classification-examples                                                               2\n",
       "https://monkeylearn.com/text-classification-examples/                                                              0\n",
       "https://monkeylearn.com/text-classification-naive-bayes                                                            6\n",
       "https://monkeylearn.com/text-classification-support-vector-machines-svm                                           18\n",
       "https://monkeylearn.com/text-classification-support-vector-machines-svm/                                           0\n",
       "https://monkeylearn.com/text-classification/                                                                       0\n",
       "https://monkeylearn.com/text-mining                                                                              111\n",
       "https://monkeylearn.com/textual-analysis                                                                           2\n",
       "https://monkeylearn.com/topic-analysis                                                                           161\n",
       "https://monkeylearn.com/topic-analysis/                                                                            0\n",
       "https://monkeylearn.com/what-is-sentiment-analysis                                                                 1\n",
       "https://monkeylearn.com/what-is-text-classification                                                                8\n",
       "https://monkeylearn.com/zapier                                                                                     0\n",
       "https://monkeylearn.com/zendesk                                                                                    0\n",
       "Name: Traffic, Length: 183, dtype: int64"
      ]
     },
     "execution_count": 2,
     "metadata": {},
     "output_type": "execute_result"
    }
   ],
   "source": [
    "res = df.groupby('URL')['Traffic'].sum()\n",
    "res"
   ]
  },
  {
   "cell_type": "code",
   "execution_count": 3,
   "metadata": {},
   "outputs": [],
   "source": [
    "import matplotlib.pyplot as plt\n",
    "%matplotlib inline"
   ]
  },
  {
   "cell_type": "code",
   "execution_count": 24,
   "metadata": {},
   "outputs": [
    {
     "data": {
      "text/plain": [
       "<matplotlib.collections.PathCollection at 0x11dd5d0b8>"
      ]
     },
     "execution_count": 24,
     "metadata": {},
     "output_type": "execute_result"
    },
    {
     "data": {
      "image/png": "[encoded data removed]",
      "text/plain": [
       "<Figure size 432x288 with 1 Axes>"
      ]
     },
     "metadata": {
      "needs_background": "light"
     },
     "output_type": "display_data"
    }
   ],
   "source": [
    "plt.plot(res)\n",
    "plt.xticks([])\n",
    "plt.title('The best performing URL')\n",
    "plt.scatter('https://monkeylearn.com/text-analytics',2283, c='r') "
   ]
  },
  {
   "cell_type": "raw",
   "metadata": {},
   "source": [
    "As we can see from the plot above, the URL https://monkeylearn.com/text-analytics' drove the most traffic which is 2283."
   ]
  },
  {
   "cell_type": "code",
   "execution_count": null,
   "metadata": {},
   "outputs": [],
   "source": []
  }
 ],
 "metadata": {
  "kernelspec": {
   "display_name": "Python 3",
   "language": "python",
   "name": "python3"
  },
  "language_info": {
   "codemirror_mode": {
    "name": "ipython",
    "version": 3
   },
   "file_extension": ".py",
   "mimetype": "text/x-python",
   "name": "python",
   "nbconvert_exporter": "python",
   "pygments_lexer": "ipython3",
   "version": "3.6.8"
  }
 },
 "nbformat": 4,
 "nbformat_minor": 2
}
